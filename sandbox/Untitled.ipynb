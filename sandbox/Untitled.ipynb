{
 "cells": [
  {
   "cell_type": "code",
   "execution_count": 12,
   "id": "d6f50318",
   "metadata": {},
   "outputs": [],
   "source": [
    "import soundfile as sf\n",
    "import numpy as np\n",
    "import matplotlib.pyplot as plt\n",
    "from scipy import signal"
   ]
  },
  {
   "cell_type": "code",
   "execution_count": 13,
   "id": "11ae63bf",
   "metadata": {},
   "outputs": [],
   "source": [
    "class Stretch:\n",
    "    def __init__(self, path: str):\n",
    "        self.path = path\n",
    "        with open('../data/test_mono.wav', 'rb') as f:\n",
    "            self.wave, self.sr = sf.read(f)\n",
    "    \n",
    "    def stretch(self,\n",
    "                rate: float=1,\n",
    "                bins: int = 2048, \n",
    "                overlap: float = 0.75)->np.ndarray:\n",
    "    \n",
    "        fourier = signal.stft(self.wave,nperseg=bins,noverlap=bins*overlap)[2]\n",
    "        voc = self.__phase_vocoder(fourier, rate=rate, hop_length=bins*overlap)\n",
    "        y_stretch = signal.istft(voc, nperseg=bins,noverlap=bins*overlap)\n",
    "        self.stretched_wave = y_stretch[1]\n",
    "    \n",
    "    def write(self, out_path: str):\n",
    "        with open(out_path, 'wb') as f:\n",
    "            sf.write(f, self.stretched_wave, self.sr)\n",
    "        \n",
    "        \n",
    "    @staticmethod\n",
    "    def __phase_vocoder(fourier: np.ndarray,\n",
    "                        rate: float,\n",
    "                        hop_length: int = None,\n",
    "                        n_fft: int = None) -> np.ndarray:\n",
    "\n",
    "        time_steps = np.arange(0, fourier.shape[-1], rate, dtype=np.float64)\n",
    "        shape = list(fourier.shape)\n",
    "        shape[-1] = len(time_steps)\n",
    "        d_stretch = np.zeros_like(fourier, shape=shape)\n",
    "        phi_advance = np.linspace(0, np.pi * hop_length, fourier.shape[-2])\n",
    "        phase_acc = np.angle(fourier[:, 0])\n",
    "        padding = [(0, 0) for _ in fourier.shape]\n",
    "        padding[-1] = (0, 2)\n",
    "        fourier = np.pad(fourier, padding, mode=\"constant\")\n",
    "\n",
    "        for t, step in enumerate(time_steps):\n",
    "            columns = fourier[:, int(step) : int(step + 2)]\n",
    "            alpha = np.mod(step, 1.0)\n",
    "            mag = (1.0 - alpha) * np.abs(columns[:, 0]) + alpha * np.abs(columns[:, 1])\n",
    "            d_stretch[:, t] = (np.cos(phase_acc) + 1j * np.sin(phase_acc))*mag\n",
    "            dphase = np.angle(columns[:, 1]) - np.angle(columns[:, 0]) - phi_advance\n",
    "            dphase = dphase - 2.0 * np.pi * np.round(dphase / (2.0 * np.pi))\n",
    "            phase_acc += phi_advance + dphase\n",
    "\n",
    "        return d_stretch"
   ]
  },
  {
   "cell_type": "code",
   "execution_count": 14,
   "id": "a92197a5",
   "metadata": {},
   "outputs": [],
   "source": [
    "stretcher = Stretch('../data/test_mono.wav')\n",
    "stretcher.stretch(rate=2)\n",
    "stretcher.write('../data/test_mono_r2.wav')\n",
    "stretcher.stretch(rate=0.5)\n",
    "stretcher.write('../data/test_mono_r05.wav')"
   ]
  },
  {
   "cell_type": "code",
   "execution_count": null,
   "id": "387e52dd",
   "metadata": {},
   "outputs": [],
   "source": []
  }
 ],
 "metadata": {
  "kernelspec": {
   "display_name": "Python 3 (ipykernel)",
   "language": "python",
   "name": "python3"
  },
  "language_info": {
   "codemirror_mode": {
    "name": "ipython",
    "version": 3
   },
   "file_extension": ".py",
   "mimetype": "text/x-python",
   "name": "python",
   "nbconvert_exporter": "python",
   "pygments_lexer": "ipython3",
   "version": "3.10.6"
  }
 },
 "nbformat": 4,
 "nbformat_minor": 5
}
